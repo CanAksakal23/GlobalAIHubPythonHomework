{
 "cells": [
  {
   "cell_type": "code",
   "execution_count": 1,
   "metadata": {},
   "outputs": [
    {
     "name": "stdout",
     "output_type": "stream",
     "text": [
      "First name: can\n",
      "Last name: aksakal\n",
      "Age: 19\n",
      "Date of birth: 2001\n"
     ]
    }
   ],
   "source": [
    "first_name = input(\"First name: \").capitalize()\n",
    "last_name = input(\"Last name: \").capitalize()\n",
    "age = int(input(\"Age: \"))\n",
    "birth_day = int(input(\"Date of birth: \"))\n"
   ]
  },
  {
   "cell_type": "code",
   "execution_count": 2,
   "metadata": {},
   "outputs": [
    {
     "name": "stdout",
     "output_type": "stream",
     "text": [
      "Can\n",
      "Aksakal\n",
      "19\n",
      "2001\n",
      "You can go out to the street\n"
     ]
    }
   ],
   "source": [
    "liste1 = [first_name, last_name, age, birth_day]\n",
    "for i in liste1:\n",
    "    print(i)\n",
    "if age < 18:\n",
    "    print(\"You can't go out because its too dangerous\")\n",
    "else:\n",
    "    print(\"You can go out to the street\")\n"
   ]
  }
 ],
 "metadata": {
  "kernelspec": {
   "display_name": "Python 3",
   "language": "python",
   "name": "python3"
  },
  "language_info": {
   "codemirror_mode": {
    "name": "ipython",
    "version": 3
   },
   "file_extension": ".py",
   "mimetype": "text/x-python",
   "name": "python",
   "nbconvert_exporter": "python",
   "pygments_lexer": "ipython3",
   "version": "3.8.3"
  }
 },
 "nbformat": 4,
 "nbformat_minor": 4
}
