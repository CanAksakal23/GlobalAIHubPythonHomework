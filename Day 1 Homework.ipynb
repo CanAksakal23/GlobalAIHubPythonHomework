{
 "cells": [
  {
   "cell_type": "code",
   "execution_count": null,
   "metadata": {},
   "outputs": [],
   "source": [
    "name = input(\"What is your name? \")\n",
    "age = input(\"Hold old are you? \")\n",
    "weight = int(input(\"How much do you weigh? \"))\n",
    "height = float(input(\"How tall are you? \"))\n",
    "nationality = input(\"Where are you from? \")\n"
   ]
  },
  {
   "cell_type": "code",
   "execution_count": null,
   "metadata": {},
   "outputs": [],
   "source": [
    "print('''Your name is {},\n",
    "         You are {} years old,\n",
    "         You weigh {} kgs\n",
    "         Your height is {} meters\n",
    "         You are from {} '''.format(name, age, weight, height, nationality))\n",
    "\n"
   ]
  },
  {
   "cell_type": "code",
   "execution_count": null,
   "metadata": {},
   "outputs": [],
   "source": [
    "type_name = type(name)\n",
    "type_age = type(age)\n",
    "type_weight = type(weight)\n",
    "type_height = type(height)\n",
    "type_nationality = type(nationality)\n",
    "print('''Type of name is {}\n",
    "         age is {}\n",
    "         weight is {}\n",
    "         height is {}\n",
    "         nationality is {}'''.format(type_name, type_age, type_weight, type_height, type_nationality))"
   ]
  }
 ],
 "metadata": {
  "kernelspec": {
   "display_name": "Python 3",
   "language": "python",
   "name": "python3"
  },
  "language_info": {
   "codemirror_mode": {
    "name": "ipython",
    "version": 3
   },
   "file_extension": ".py",
   "mimetype": "text/x-python",
   "name": "python",
   "nbconvert_exporter": "python",
   "pygments_lexer": "ipython3",
   "version": "3.8.3"
  }
 },
 "nbformat": 4,
 "nbformat_minor": 4
}
