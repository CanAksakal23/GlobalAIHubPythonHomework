{
 "cells": [
  {
   "cell_type": "code",
   "execution_count": 1,
   "metadata": {},
   "outputs": [
    {
     "name": "stdout",
     "output_type": "stream",
     "text": [
      "What is your name? Can\n",
      "Hold old are you? 19\n",
      "How much do you weigh? 80\n",
      "How tall are you? 2.00\n",
      "Where are you from? Turkey\n"
     ]
    }
   ],
   "source": [
    "name = input(\"What is your name? \")\n",
    "age = input(\"Hold old are you? \")\n",
    "weight = int(input(\"How much do you weigh? \"))\n",
    "height = float(input(\"How tall are you? \"))\n",
    "nationality = input(\"Where are you from? \")\n"
   ]
  },
  {
   "cell_type": "code",
   "execution_count": 2,
   "metadata": {},
   "outputs": [
    {
     "name": "stdout",
     "output_type": "stream",
     "text": [
      "Your name is Can,\n",
      "         You are 19 years old,\n",
      "         You weigh 80 kgs\n",
      "         Your height is 2.0 meters\n",
      "         You are from Turkey \n"
     ]
    }
   ],
   "source": [
    "print('''Your name is {},\n",
    "         You are {} years old,\n",
    "         You weigh {} kgs\n",
    "         Your height is {} meters\n",
    "         You are from {} '''.format(name, age, weight, height, nationality))\n",
    "\n"
   ]
  },
  {
   "cell_type": "code",
   "execution_count": 3,
   "metadata": {},
   "outputs": [
    {
     "name": "stdout",
     "output_type": "stream",
     "text": [
      "Type of name is <class 'str'>\n",
      "         age is <class 'str'>\n",
      "         weight is <class 'int'>\n",
      "         height is <class 'float'>\n",
      "         nationality is <class 'str'>\n"
     ]
    }
   ],
   "source": [
    "type_name = type(name)\n",
    "type_age = type(age)\n",
    "type_weight = type(weight)\n",
    "type_height = type(height)\n",
    "type_nationality = type(nationality)\n",
    "print('''Type of name is {}\n",
    "         age is {}\n",
    "         weight is {}\n",
    "         height is {}\n",
    "         nationality is {}'''.format(type_name, type_age, type_weight, type_height, type_nationality))"
   ]
  },
  {
   "cell_type": "code",
   "execution_count": null,
   "metadata": {},
   "outputs": [],
   "source": []
  }
 ],
 "metadata": {
  "kernelspec": {
   "display_name": "Python 3",
   "language": "python",
   "name": "python3"
  },
  "language_info": {
   "codemirror_mode": {
    "name": "ipython",
    "version": 3
   },
   "file_extension": ".py",
   "mimetype": "text/x-python",
   "name": "python",
   "nbconvert_exporter": "python",
   "pygments_lexer": "ipython3",
   "version": "3.8.3"
  }
 },
 "nbformat": 4,
 "nbformat_minor": 4
}
